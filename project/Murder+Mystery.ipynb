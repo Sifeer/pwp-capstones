{
 "cells": [
  {
   "cell_type": "markdown",
   "metadata": {},
   "source": [
    "# Preamble: A Brand New Jay\n",
    "\n",
    "After an eventful season on season 8 of *A Brand New Jay*, the 3 remaining contestants were invited to Jay Stacksby's private island for the last three episodes. When the day of filming the finale came Mr. Stacksby was found with one of his Professional Series 8-inch Chef Knives plunged through his heart! After the initial investigation highlighted that the film crew all lived in a separate house on the other side of the island, it was concluded that only the three contestants were near enough to Stacksby in order to commit a crime. At the scene of the crime, a letter was left. Here are the contents of that letter:\n",
    "\n",
    "> You may call me heartless, a killer, a monster, a murderer, but I'm still NOTHING compared to the villian that Jay was. This whole contest was a sham, an elaborate plot to shame the contestants and feed Jay's massive, massive ego. SURE you think you know him! You've seen him smiling for the cameras, laughing, joking, telling stories, waving his money around like a prop but off camera he was a sinister beast, a cruel cruel taskmaster, he treated all of us like slaves, like cattle, like animals! Do you remember Lindsay, she was the first to go, he called her such horrible things that she cried all night, keeping up all up, crying, crying, and more crying, he broke her with his words. I miss my former cast members, all of them very much. And we had to live with him, live in his home, live in his power, deal with his crazy demands. AND FOR WHAT! DID YOU KNOW THAT THE PRIZE ISN'T REAL? He never intended to marry one of us! The carrot on the stick was gone, all that was left was stick, he told us last night that we were all a terrible terrible disappointment and none of us would ever amount to anything, and that regardless of who won the contest he would never speak to any of us again! It's definitely the things like this you can feel in your gut how wrong he is! Well I showed him, he got what he deserved all right, I showed him, I showed him the person I am! I wasn't going to be pushed around any longer, and I wasn't going to let him go on pretending that he was some saint when all he was was a sick sick twisted man who deserved every bit of what he got. The fans need to know, Jay Stacksby is a vile amalgamation of all things evil and bad and the world is a better place without him.\n",
    "\n",
    "Pretty sinister stuff! Luckily, in addition to this bold-faced admission, we have the introduction letters of the three contestants. Maybe there is a way to use this information to determine who the author of this murder letter is?\n",
    "\n",
    "Myrtle Beech's introduction letter:\n",
    "> Salutations. My name? Myrtle. Myrtle Beech. I am a woman of simple tastes. I enjoy reading, thinking, and doing my taxes. I entered this competition because I want a serious relationship. I want a commitment. The last man I dated was too whimsical. He wanted to go on dates that had no plan. No end goal. Sometimes we would just end up wandering the streets after dinner. He called it a \"walk\". A \"walk\" with no destination. Can you imagine? I like every action I take to have a measurable effect. When I see a movie, I like to walk away with insights that I did not have before. When I take a bike ride, there better be a worthy destination at the end of the bike path. Jay seems frivolous at times. This worries me. However, it is my staunch belief that one does not make and keep money without having a modicum of discipline. As such, I am hopeful. I will now list three things I cannot live without. Water. Emery boards. Dogs. Thank you for the opportunity to introduce myself. I look forward to the competition. \n",
    "\n",
    "Lily Trebuchet's introduction letter:\n",
    "> Hi, I'm Lily Trebuchet from East Egg, Long Island. I love cats, hiking, and curling up under a warm blanket with a book. So they gave this little questionnaire to use for our bios so lets get started. What are some of my least favorite household chores? Dishes, oh yes it's definitely the dishes, I just hate doing them, don't you? Who is your favorite actor and why? Hmm, that's a hard one, but I think recently I'll have to go with Michael B. Jordan, every bit of that man is handsome, HANDSOME! Do you remember seeing him shirtless? I can't believe what he does for the cameras! Okay okay next question, what is your perfect date? Well it starts with a nice dinner at a delicious but small restaurant, you know like one of those places where the owner is in the back and comes out to talk to you and ask you how your meal was. My favorite form of art? Another hard one, but I think I'll have to go with music, music you can feel in your whole body and it is electrifying and best of all, you can dance to it! Okay final question, let's see, What are three things you cannot live without? Well first off, my beautiful, beautiful cat Jerry, he is my heart and spirit animal. Second is pasta, definitely pasta, and the third I think is my family, I love all of them very much and they support me in everything I do. I know Jay Stacksby is a handsome man and all of us want to be the first to walk down the aisle with him, but I think he might truly be the one for me. Okay that's it for the bio, I hope you have fun watching the show! \n",
    "\n",
    "Gregg T Fishy's introduction letter:\n",
    "\n",
    "> A good day to you all, I am Gregg T Fishy, of the Fishy Enterprise fortune. I am 37 years young. An adventurous spirit and I've never lost my sense of childlike wonder. I do love to be in the backyard gardening and I have the most extraordinary time when I'm fishing. Fishing for what, you might ask? Why, fishing for compliments of course! I have a stunning pair of radiant blue eyes. They will pierce the soul of anyone who dare gaze upon my countenance. I quite enjoy going on long jaunts through garden paths and short walks through greenhouses. I hope that Jay will be as absolutely interesting as he appears on the television. I find that he has some of the most curious tastes in style and humor. When I'm out and about I quite enjoy hearing tales that instill in my heart of hearts the fascination that beguiles my every day life. Every fiber of my being scintillates and vascillates with extreme pleasure during one of these charming anecdotes and significantly pleases my beautiful personage. I cannot wait to enjoy being on A Brand New Jay. It certainly seems like a grand time to explore life and love."
   ]
  },
  {
   "cell_type": "markdown",
   "metadata": {},
   "source": [
    "## Saving The Different Examples as Variables\n",
    "\n",
    "First let's create variables to hold the text data in! Save the muder note as a string in a variable called `murder_note`. Save Lily Trebuchet's introduction into `lily_trebuchet_intro`. Save Myrtle Beech's introduction into `myrtle_beech_intro`. Save Gregg T Fishy's introduction into `gregg_t_fishy_intro`."
   ]
  },
  {
   "cell_type": "code",
   "execution_count": 367,
   "metadata": {},
   "outputs": [],
   "source": [
    "murder_note = \"You may call me heartless, a killer, a monster, a murderer, but I'm still NOTHING compared to the villian that Jay was. This whole contest was a sham, an elaborate plot to shame the contestants and feed Jay's massive, massive ego. SURE you think you know him! You've seen him smiling for the cameras, laughing, joking, telling stories, waving his money around like a prop but off camera he was a sinister beast, a cruel cruel taskmaster, he treated all of us like slaves, like cattle, like animals! Do you remember Lindsay, she was the first to go, he called her such horrible things that she cried all night, keeping up all up, crying, crying, and more crying, he broke her with his words. I miss my former cast members, all of them very much. And we had to live with him, live in his home, live in his power, deal with his crazy demands. AND FOR WHAT! DID YOU KNOW THAT THE PRIZE ISN'T REAL? He never intended to marry one of us! The carrot on the stick was gone, all that was left was stick, he told us last night that we were all a terrible terrible disappointment and none of us would ever amount to anything, and that regardless of who won the contest he would never speak to any of us again! It's definitely the things like this you can feel in your gut how wrong he is! Well I showed him, he got what he deserved all right, I showed him, I showed him the person I am! I wasn't going to be pushed around any longer, and I wasn't going to let him go on pretending that he was some saint when all he was was a sick sick twisted man who deserved every bit of what he got. The fans need to know, Jay Stacksby is a vile amalgamation of all things evil and bad and the world is a better place without him.\"\n",
    "\n",
    "\n",
    "lily_trebuchet_intro = \"Hi, I'm Lily Trebuchet from East Egg, Long Island. I love cats, hiking, and curling up under a warm blanket with a book. So they gave this little questionnaire to use for our bios so lets get started. What are some of my least favorite household chores? Dishes, oh yes it's definitely the dishes, I just hate doing them, don't you? Who is your favorite actor and why? Hmm, that's a hard one, but I think recently I'll have to go with Michael B. Jordan, every bit of that man is handsome, HANDSOME! Do you remember seeing him shirtless? I can't believe what he does for the cameras! Okay okay next question, what is your perfect date? Well it starts with a nice dinner at a delicious but small restaurant, you know like one of those places where the owner is in the back and comes out to talk to you and ask you how your meal was. My favorite form of art? Another hard one, but I think I'll have to go with music, music you can feel in your whole body and it is electrifying and best of all, you can dance to it! Okay final question, let's see, What are three things you cannot live without? Well first off, my beautiful, beautiful cat Jerry, he is my heart and spirit animal. Second is pasta, definitely pasta, and the third I think is my family, I love all of them very much and they support me in everything I do. I know Jay Stacksby is a handsome man and all of us want to be the first to walk down the aisle with him, but I think he might truly be the one for me. Okay that's it for the bio, I hope you have fun watching the show!\" \n",
    "\n",
    "\n",
    "myrtle_beech_intro =\"\"\"Salutations. My name? Myrtle. Myrtle Beech. I am a woman of simple tastes. I enjoy reading, thinking, and doing my taxes. I entered this competition because I want a serious relationship. I want a commitment. The last man I dated was too whimsical. He wanted to go on dates that had no plan. No end goal. Sometimes we would just end up wandering the streets after dinner. He called it a \"walk\". A \"walk\" with no destination. Can you imagine? I like every action I take to have a measurable effect. When I see a movie, I like to walk away with insights that I did not have before. When I take a bike ride, there better be a worthy destination at the end of the bike path. Jay seems frivolous at times. This worries me. However, it is my staunch belief that one does not make and keep money without having a modicum of discipline. As such, I am hopeful. I will now list three things I cannot live without. Water. Emery boards. Dogs. Thank you for the opportunity to introduce myself. I look forward to the competition.\"\"\"\n",
    "\n",
    "gregg_t_fishy_intro = \"A good day to you all, I am Gregg T Fishy, of the Fishy Enterprise fortune. I am 37 years young. An adventurous spirit and I've never lost my sense of childlike wonder. I do love to be in the backyard gardening and I have the most extraordinary time when I'm fishing. Fishing for what, you might ask? Why, fishing for compliments of course! I have a stunning pair of radiant blue eyes. They will pierce the soul of anyone who dare gaze upon my countenance. I quite enjoy going on long jaunts through garden paths and short walks through greenhouses. I hope that Jay will be as absolutely interesting as he appears on the television. I find that he has some of the most curious tastes in style and humor. When I'm out and about I quite enjoy hearing tales that instill in my heart of hearts the fascination that beguiles my every day life. Every fiber of my being scintillates and vascillates with extreme pleasure during one of these charming anecdotes and significantly pleases my beautiful personage. I cannot wait to enjoy being on A Brand New Jay. It certainly seems like a grand time to explore life and love.\" \n",
    "\n",
    "\n",
    "\n"
   ]
  },
  {
   "cell_type": "markdown",
   "metadata": {},
   "source": [
    "## The First Indicator: Sentence Length\n",
    "\n",
    "Perhaps some meaningful data can first be gleaned from these text examples if we measure how long the average sentence length is. Different authors have different patterns of written speech, so this could be very useful in tracking down the killer.\n",
    "\n",
    "Write a function `get_average_sentence_length` that takes some `text` as an argument. This function should return the average length of a sentence in the text.\n",
    "\n",
    "Hint (highlight this hint in order to reveal it): \n",
    "<font color=\"white\">Use your knowledge of _string methods_ to create a list of all of the sentences in a text, called **sentences_in_text**. \n",
    "Further break up each **sentences_in_text** into a list of words and save the _length_ of that list of words to a new list that contains all the sentence lengths, called **sentence_lengths**. Take the average of all of the sentence lengths by adding them all together and dividing by the number of sentences (which should be the same as the length of the **sentence_lengths**).\n",
    "\n",
    "Remember sentences can end with more than one kind of punctuation, you might find it easiest to use **.replace()** so you only have to split on one punctuation mark. Remember **.replace()** doesn't modify the string itself, it returns a new string!</font>"
   ]
  },
  {
   "cell_type": "code",
   "execution_count": 368,
   "metadata": {},
   "outputs": [],
   "source": [
    "\n",
    "myrtle_beech_intro =\"\"\"Salutations. My name? Myrtle. Myrtle Beech. I am a woman of simple tastes. I enjoy reading, thinking, and doing my taxes. I entered this competition because I want a serious relationship. I want a commitment. The last man I dated was too whimsical. He wanted to go on dates that had no plan. No end goal. Sometimes we would just end up wandering the streets after dinner. He called it a \"walk\". A \"walk\" with no destination. Can you imagine? I like every action I take to have a measurable effect. When I see a movie, I like to walk away with insights that I did not have before. When I take a bike ride, there better be a worthy destination at the end of the bike path. Jay seems frivolous at times. This worries me. However, it is my staunch belief that one does not make and keep money without having a modicum of discipline. As such, I am hopeful. I will now list three things I cannot live without. Water. Emery boards. Dogs. Thank you for the opportunity to introduce myself. I look forward to the competition.\"\"\"\n",
    "\n",
    "\n",
    "\n",
    "\n",
    "def get_average_sentence_length(text):\n",
    "    new_text = text.replace(\"!\",\".\")\n",
    "    used_text = new_text.replace(\"?\",\".\")\n",
    "    sentences_in_text = used_text.split(\".\")\n",
    "    total_sentences = len(sentences_in_text)\n",
    "    sentence_lengths = []\n",
    "    for sentence in sentences_in_text:\n",
    "        number_of_words = len(sentence.split())\n",
    "        sentence_lengths.append(number_of_words)\n",
    "    total_number = sum(sentence_lengths)\n",
    "    average = total_number/total_sentences\n",
    "    return average\n",
    "    \n",
    "        "
   ]
  },
  {
   "cell_type": "code",
   "execution_count": 369,
   "metadata": {},
   "outputs": [
    {
     "data": {
      "text/plain": [
       "6.517241379310345"
      ]
     },
     "execution_count": 369,
     "metadata": {},
     "output_type": "execute_result"
    }
   ],
   "source": [
    "get_average_sentence_length(myrtle_beech_intro)"
   ]
  },
  {
   "cell_type": "markdown",
   "metadata": {},
   "source": [
    "## Creating The Definition for Our Model\n",
    "\n",
    "Now that we have a metric we want to save and data that is coupled with that metric, it might be time to create our data type. Let's define a class called `TextSample` with a constructor. The constructor should take two arguments: `text` and `author`. `text` should be saved as `self.raw_text`. Call `get_average_sentence_length` with the raw text and save it to `self.average_sentence_length`. You should save the author of the text as `self.author`.\n",
    "\n",
    "Additionally, define a string representation for the model. If you print a `TextSample` it should render:\n",
    " - The author's name\n",
    " - The average sentence length\n",
    " \n",
    "This will be your main class for the problem at hand. All later instruction to update `TextSample` should be done in the code block below. After updating `TextSample`, click on the `Cell` option in the Jupyter Notebook main menu above, then click `Run All` to rerun the cells from top to bottom. If you need to restart your Jupyter Notebook either run the cells below first or move the `TextSample` class definition & instantiation cells to the bottom."
   ]
  },
  {
   "cell_type": "code",
   "execution_count": 370,
   "metadata": {},
   "outputs": [],
   "source": [
    "def build_frequency_table(corpus):\n",
    "    frequency_table = {}\n",
    "    for word in corpus:\n",
    "        if frequency_table.get(word, 0) == 0:\n",
    "            frequency_table[word] = 1\n",
    "        else:\n",
    "            frequency_table[word] += 1\n",
    "    return frequency_table\n",
    "\n",
    "\n",
    "\n",
    "def prepare_text(text):\n",
    "    quest_text = text.replace(\"?\",\"\")\n",
    "    dot_text = quest_text.replace(\".\", \"\")\n",
    "    exc_text = dot_text.replace(\"!\", \"\")\n",
    "    lower_text = exc_text.lower()\n",
    "    list_text = lower_text.split()\n",
    "    return list_text\n",
    "\n",
    "def ngram_creator(text_list):\n",
    "    new_list = []\n",
    "    for i in range(len(text_list)-1):\n",
    "        current_item, next_item, = text_list[i], text_list[i+1]\n",
    "        new_list.append(current_item+\" \"+next_item)\n",
    "    return new_list\n",
    "\n",
    "\n",
    "\n",
    "\n",
    "\n",
    "\n",
    "\n",
    "class TextSample:\n",
    "    def __init__(self,text,author):\n",
    "        self.raw_text = text\n",
    "        self.author = author\n",
    "        self.average_sentence_length = get_average_sentence_length(self.raw_text)\n",
    "        self.prepared_text = prepare_text(self.raw_text)\n",
    "        self.word_count_frequency = build_frequeny_table(prepare_text(self.raw_text))\n",
    "        self.ngram_frequency = build_frequeny_table(ngram_creator(prepare_text(self.raw_text)))\n",
    "      \n",
    "        \n",
    "    def __repr__(self):\n",
    "        return\"Author:\" + self.author + \"\\nThe average sentence length is \" +  str(self.average_sentence_length) \n",
    "      \n",
    "       "
   ]
  },
  {
   "cell_type": "code",
   "execution_count": 371,
   "metadata": {},
   "outputs": [
    {
     "name": "stdout",
     "output_type": "stream",
     "text": [
      "Author:Myrtle\n",
      "The average sentence length is 6.517241379310345\n"
     ]
    }
   ],
   "source": [
    "text_sample = TextSample(myrtle_beech_intro,\"Myrtle\")\n",
    "print(text_sample)"
   ]
  },
  {
   "cell_type": "markdown",
   "metadata": {},
   "source": [
    "### Creating our TextSample Instances\n",
    "\n",
    "Now create a `TextSample` object for each of the samples of text that we have.\n",
    " - `murderer_sample` for the murderer's note.\n",
    " - `lily_sample` for Lily Trebuchet's note.\n",
    " - `myrtle_sample` for Myrtle Beech's note.\n",
    " - `gregg_sample` for Gregg T Fishy's note.\n",
    " \n",
    "Print out each one after instantiating them."
   ]
  },
  {
   "cell_type": "code",
   "execution_count": 372,
   "metadata": {},
   "outputs": [
    {
     "name": "stdout",
     "output_type": "stream",
     "text": [
      "Author:Murderer\n",
      "The average sentence length is 20.6875\n",
      "Author:Lily Trebuchet\n",
      "The average sentence length is 15.05\n",
      "Author:Myrtle Beech\n",
      "The average sentence length is 6.517241379310345\n",
      "Author:Gregg T Fishy\n",
      "The average sentence length is 12.625\n"
     ]
    }
   ],
   "source": [
    "murderer_sample = TextSample(murder_note,\"Murderer\")\n",
    "print(murderer_sample)\n",
    "\n",
    "lily_sample = TextSample(lily_trebuchet_intro,\"Lily Trebuchet\")\n",
    "print(lily_sample)\n",
    "\n",
    "myrtle_sample = TextSample(myrtle_beech_intro, \"Myrtle Beech\")\n",
    "print(myrtle_sample)\n",
    "\n",
    "gregg_sample = TextSample(gregg_t_fishy_intro, \"Gregg T Fishy\")\n",
    "print(gregg_sample)\n",
    "\n"
   ]
  },
  {
   "cell_type": "markdown",
   "metadata": {},
   "source": [
    "## Cleaning Our Data\n",
    "\n",
    "We want to compare the word choice and usage between the samples, but sentences make our text data fairly messy. In order to analyze the different messages fairly, we'll need to remove all the punctuation and uppercase letters from the samples.\n",
    "\n",
    "Create a function called `prepare_text` that takes a single parameter `text`, makes the text entirely lowercase, removes all the punctuation and returns a list of the words in the text in order.\n",
    "\n",
    "For example: `\"Where did you go, friend? We nearly saw each other.\"` would become `['where', 'did', 'you', 'go', 'friend', 'we', 'nearly', 'saw', 'each', 'other']`."
   ]
  },
  {
   "cell_type": "code",
   "execution_count": 373,
   "metadata": {},
   "outputs": [],
   "source": [
    "def prepare_text(text):\n",
    "    quest_text = text.replace(\"?\",\"\")\n",
    "    dot_text = quest_text.replace(\".\", \"\")\n",
    "    exc_text = dot_text.replace(\"!\", \"\")\n",
    "    lower_text = exc_text.lower()\n",
    "    list_text = lower_text.split()\n",
    "    return list_text\n",
    "  "
   ]
  },
  {
   "cell_type": "code",
   "execution_count": 374,
   "metadata": {},
   "outputs": [
    {
     "name": "stdout",
     "output_type": "stream",
     "text": [
      "['salutations', 'my', 'name', 'myrtle', 'myrtle', 'beech', 'i', 'am', 'a', 'woman', 'of', 'simple', 'tastes', 'i', 'enjoy', 'reading,', 'thinking,', 'and', 'doing', 'my', 'taxes', 'i', 'entered', 'this', 'competition', 'because', 'i', 'want', 'a', 'serious', 'relationship', 'i', 'want', 'a', 'commitment', 'the', 'last', 'man', 'i', 'dated', 'was', 'too', 'whimsical', 'he', 'wanted', 'to', 'go', 'on', 'dates', 'that', 'had', 'no', 'plan', 'no', 'end', 'goal', 'sometimes', 'we', 'would', 'just', 'end', 'up', 'wandering', 'the', 'streets', 'after', 'dinner', 'he', 'called', 'it', 'a', '\"walk\"', 'a', '\"walk\"', 'with', 'no', 'destination', 'can', 'you', 'imagine', 'i', 'like', 'every', 'action', 'i', 'take', 'to', 'have', 'a', 'measurable', 'effect', 'when', 'i', 'see', 'a', 'movie,', 'i', 'like', 'to', 'walk', 'away', 'with', 'insights', 'that', 'i', 'did', 'not', 'have', 'before', 'when', 'i', 'take', 'a', 'bike', 'ride,', 'there', 'better', 'be', 'a', 'worthy', 'destination', 'at', 'the', 'end', 'of', 'the', 'bike', 'path', 'jay', 'seems', 'frivolous', 'at', 'times', 'this', 'worries', 'me', 'however,', 'it', 'is', 'my', 'staunch', 'belief', 'that', 'one', 'does', 'not', 'make', 'and', 'keep', 'money', 'without', 'having', 'a', 'modicum', 'of', 'discipline', 'as', 'such,', 'i', 'am', 'hopeful', 'i', 'will', 'now', 'list', 'three', 'things', 'i', 'cannot', 'live', 'without', 'water', 'emery', 'boards', 'dogs', 'thank', 'you', 'for', 'the', 'opportunity', 'to', 'introduce', 'myself', 'i', 'look', 'forward', 'to', 'the', 'competition']\n"
     ]
    }
   ],
   "source": [
    "print(prepare_text(myrtle_beech_intro))"
   ]
  },
  {
   "cell_type": "markdown",
   "metadata": {},
   "source": [
    "Update the constructor for `TextSample` to save the prepared text as `self.prepared_text`."
   ]
  },
  {
   "cell_type": "markdown",
   "metadata": {},
   "source": [
    "## Building A Frequency Table\n",
    "\n",
    "Now we want to see which words were most frequently used in each of the samples. Create a function called `build_frequency_table`. It takes in a list called `corpus` and creates a dictionary called `frequency_table`. For every element in `corpus` the value `frequency_table[element]` should be equal to the number of times that element appears in `corpus`. For example the input `['do', 'you', 'see', 'what', 'i', 'see']` would create the frequency table `{'what': 1, 'you': 1, 'see' 2, 'i': 1}`."
   ]
  },
  {
   "cell_type": "code",
   "execution_count": 375,
   "metadata": {},
   "outputs": [],
   "source": [
    "def build_frequency_table(corpus):\n",
    "    frequency_table = {}\n",
    "    for word in corpus:\n",
    "        if frequency_table.get(word, 0) == 0:\n",
    "            frequency_table[word] = 1\n",
    "        else:\n",
    "            frequency_table[word] += 1\n",
    "    return frequency_table"
   ]
  },
  {
   "cell_type": "code",
   "execution_count": 376,
   "metadata": {},
   "outputs": [
    {
     "name": "stdout",
     "output_type": "stream",
     "text": [
      "{'discipline as': 1, 'end up': 1, 'a measurable': 1, 'thinking, and': 1, 'live without': 1, 'action i': 1, 'was too': 1, 'want a': 2, '\"walk\" a': 1, 'movie, i': 1, 'i did': 1, 'without water': 1, 'insights that': 1, 'ride, there': 1, 'i will': 1, 'measurable effect': 1, 'like to': 1, 'of discipline': 1, 'take to': 1, 'on dates': 1, 'hopeful i': 1, 'end of': 1, 'to the': 1, 'money without': 1, 'go on': 1, 'my staunch': 1, 'a bike': 1, 'salutations my': 1, 'times this': 1, 'like every': 1, 'see a': 1, 'you for': 1, 'the last': 1, 'i like': 2, 'my name': 1, 'have before': 1, 'we would': 1, 'and keep': 1, 'myrtle beech': 1, 'and doing': 1, 'man i': 1, 'relationship i': 1, 'myrtle myrtle': 1, 'take a': 1, 'of the': 1, 'he called': 1, 'would just': 1, 'no destination': 1, 'before when': 1, 'look forward': 1, 'woman of': 1, 'wandering the': 1, 'however, it': 1, 'last man': 1, 'with insights': 1, 'streets after': 1, 'without having': 1, 'i want': 2, 'forward to': 1, 'commitment the': 1, 'introduce myself': 1, 'staunch belief': 1, 'dogs thank': 1, 'for the': 1, 'to go': 1, 'a \"walk\"': 2, 'destination at': 1, 'list three': 1, 'this worries': 1, 'am hopeful': 1, 'that had': 1, 'does not': 1, 'doing my': 1, 'it a': 1, 'thank you': 1, 'a movie,': 1, 'such, i': 1, 'effect when': 1, 'just end': 1, 'to introduce': 1, 'bike path': 1, 'the end': 1, '\"walk\" with': 1, 'modicum of': 1, 'things i': 1, 'path jay': 1, 'three things': 1, 'no end': 1, 'belief that': 1, 'a woman': 1, 'destination can': 1, 'called it': 1, 'bike ride,': 1, 'it is': 1, 'end goal': 1, 'there better': 1, 'i see': 1, 'a worthy': 1, 'competition because': 1, 'sometimes we': 1, 'plan no': 1, 'dinner he': 1, 'whimsical he': 1, 'one does': 1, 'opportunity to': 1, 'i dated': 1, 'tastes i': 1, 'a modicum': 1, 'simple tastes': 1, 'every action': 1, 'enjoy reading,': 1, 'the bike': 1, 'serious relationship': 1, 'because i': 1, 'i take': 2, 'me however,': 1, 'i look': 1, 'walk away': 1, 'after dinner': 1, 'you imagine': 1, 'had no': 1, 'to have': 1, 'a serious': 1, 'as such,': 1, 'i enjoy': 1, 'worthy destination': 1, 'taxes i': 1, 'the competition': 1, 'up wandering': 1, 'away with': 1, 'having a': 1, 'that i': 1, 'not have': 1, 'entered this': 1, 'keep money': 1, 'frivolous at': 1, 'will now': 1, 'i cannot': 1, 'the opportunity': 1, 'this competition': 1, 'beech i': 1, 'dates that': 1, 'worries me': 1, 'i entered': 1, 'dated was': 1, 'too whimsical': 1, 'the streets': 1, 'at times': 1, 'of simple': 1, 'reading, thinking,': 1, 'boards dogs': 1, 'make and': 1, 'better be': 1, 'imagine i': 1, 'that one': 1, 'emery boards': 1, 'myself i': 1, 'now list': 1, 'i am': 2, 'goal sometimes': 1, 'cannot live': 1, 'when i': 2, 'water emery': 1, 'can you': 1, 'name myrtle': 1, 'a commitment': 1, 'have a': 1, 'wanted to': 1, 'with no': 1, 'no plan': 1, 'at the': 1, 'did not': 1, 'is my': 1, 'my taxes': 1, 'jay seems': 1, 'be a': 1, 'seems frivolous': 1, 'not make': 1, 'he wanted': 1, 'am a': 1, 'to walk': 1}\n"
     ]
    }
   ],
   "source": [
    "print(build_frequeny_table(ngram_creator(prepare_text(myrtle_beech_intro))))\n",
    "\n",
    "\n",
    "\n",
    "\n",
    "\n",
    "\n",
    "\n",
    "\n",
    "\n",
    "\n",
    "\n"
   ]
  },
  {
   "cell_type": "markdown",
   "metadata": {},
   "source": [
    "## The Second Indicator: Favorite Words\n",
    "\n",
    "Use `build_frequency_table` with the prepared text to create a frequency table that counts how frequently all the words in each text sample appears. Call these functions in the constructor for `TextSample` and assign the word frequency table to a value called `self.word_count_frequency`."
   ]
  },
  {
   "cell_type": "markdown",
   "metadata": {},
   "source": [
    "## The Third Indicator: N-Grams\n",
    "\n",
    "An <a href='https://en.wikipedia.org/wiki/N-gram' target=\"_blank\">n-gram</a> is a text analysis technique used for pattern recognition and applicable throughout lingusitics. We're going to use n-grams to find who uses similar word-pairs to the murderer, and we think it's going to make our evidence strong enough to conclusively find the killer.\n",
    "\n",
    "Create a function called `ngram_creator` that takes a parameter `text_list`, a treated in-order list of the words in a text sample. `ngram_creator` should return a list of all adjacent pairs of words, styled as strings with a space in the center.\n",
    "\n",
    "For instance, calling `ngram_creator` with the input `['what', 'in', 'the', 'world', 'is', 'going', 'on']`\n",
    "Should produce the output `['what in', 'in the', 'the world', 'world is', 'is going', 'going on']`.\n",
    "\n",
    "These are two-word n-grams."
   ]
  },
  {
   "cell_type": "code",
   "execution_count": 377,
   "metadata": {},
   "outputs": [],
   "source": [
    "def ngram_creator(text_list):\n",
    "    new_list = []\n",
    "    for i in range(len(text_list)-1):\n",
    "        current_item, next_item, = text_list[i], text_list[i+1]\n",
    "        new_list.append(current_item+\" \"+next_item)\n",
    "    return new_list\n",
    "\n",
    "   "
   ]
  },
  {
   "cell_type": "code",
   "execution_count": 378,
   "metadata": {},
   "outputs": [
    {
     "data": {
      "text/plain": [
       "['salutations my',\n",
       " 'my name',\n",
       " 'name myrtle',\n",
       " 'myrtle myrtle',\n",
       " 'myrtle beech',\n",
       " 'beech i',\n",
       " 'i am',\n",
       " 'am a',\n",
       " 'a woman',\n",
       " 'woman of',\n",
       " 'of simple',\n",
       " 'simple tastes',\n",
       " 'tastes i',\n",
       " 'i enjoy',\n",
       " 'enjoy reading,',\n",
       " 'reading, thinking,',\n",
       " 'thinking, and',\n",
       " 'and doing',\n",
       " 'doing my',\n",
       " 'my taxes',\n",
       " 'taxes i',\n",
       " 'i entered',\n",
       " 'entered this',\n",
       " 'this competition',\n",
       " 'competition because',\n",
       " 'because i',\n",
       " 'i want',\n",
       " 'want a',\n",
       " 'a serious',\n",
       " 'serious relationship',\n",
       " 'relationship i',\n",
       " 'i want',\n",
       " 'want a',\n",
       " 'a commitment',\n",
       " 'commitment the',\n",
       " 'the last',\n",
       " 'last man',\n",
       " 'man i',\n",
       " 'i dated',\n",
       " 'dated was',\n",
       " 'was too',\n",
       " 'too whimsical',\n",
       " 'whimsical he',\n",
       " 'he wanted',\n",
       " 'wanted to',\n",
       " 'to go',\n",
       " 'go on',\n",
       " 'on dates',\n",
       " 'dates that',\n",
       " 'that had',\n",
       " 'had no',\n",
       " 'no plan',\n",
       " 'plan no',\n",
       " 'no end',\n",
       " 'end goal',\n",
       " 'goal sometimes',\n",
       " 'sometimes we',\n",
       " 'we would',\n",
       " 'would just',\n",
       " 'just end',\n",
       " 'end up',\n",
       " 'up wandering',\n",
       " 'wandering the',\n",
       " 'the streets',\n",
       " 'streets after',\n",
       " 'after dinner',\n",
       " 'dinner he',\n",
       " 'he called',\n",
       " 'called it',\n",
       " 'it a',\n",
       " 'a \"walk\"',\n",
       " '\"walk\" a',\n",
       " 'a \"walk\"',\n",
       " '\"walk\" with',\n",
       " 'with no',\n",
       " 'no destination',\n",
       " 'destination can',\n",
       " 'can you',\n",
       " 'you imagine',\n",
       " 'imagine i',\n",
       " 'i like',\n",
       " 'like every',\n",
       " 'every action',\n",
       " 'action i',\n",
       " 'i take',\n",
       " 'take to',\n",
       " 'to have',\n",
       " 'have a',\n",
       " 'a measurable',\n",
       " 'measurable effect',\n",
       " 'effect when',\n",
       " 'when i',\n",
       " 'i see',\n",
       " 'see a',\n",
       " 'a movie,',\n",
       " 'movie, i',\n",
       " 'i like',\n",
       " 'like to',\n",
       " 'to walk',\n",
       " 'walk away',\n",
       " 'away with',\n",
       " 'with insights',\n",
       " 'insights that',\n",
       " 'that i',\n",
       " 'i did',\n",
       " 'did not',\n",
       " 'not have',\n",
       " 'have before',\n",
       " 'before when',\n",
       " 'when i',\n",
       " 'i take',\n",
       " 'take a',\n",
       " 'a bike',\n",
       " 'bike ride,',\n",
       " 'ride, there',\n",
       " 'there better',\n",
       " 'better be',\n",
       " 'be a',\n",
       " 'a worthy',\n",
       " 'worthy destination',\n",
       " 'destination at',\n",
       " 'at the',\n",
       " 'the end',\n",
       " 'end of',\n",
       " 'of the',\n",
       " 'the bike',\n",
       " 'bike path',\n",
       " 'path jay',\n",
       " 'jay seems',\n",
       " 'seems frivolous',\n",
       " 'frivolous at',\n",
       " 'at times',\n",
       " 'times this',\n",
       " 'this worries',\n",
       " 'worries me',\n",
       " 'me however,',\n",
       " 'however, it',\n",
       " 'it is',\n",
       " 'is my',\n",
       " 'my staunch',\n",
       " 'staunch belief',\n",
       " 'belief that',\n",
       " 'that one',\n",
       " 'one does',\n",
       " 'does not',\n",
       " 'not make',\n",
       " 'make and',\n",
       " 'and keep',\n",
       " 'keep money',\n",
       " 'money without',\n",
       " 'without having',\n",
       " 'having a',\n",
       " 'a modicum',\n",
       " 'modicum of',\n",
       " 'of discipline',\n",
       " 'discipline as',\n",
       " 'as such,',\n",
       " 'such, i',\n",
       " 'i am',\n",
       " 'am hopeful',\n",
       " 'hopeful i',\n",
       " 'i will',\n",
       " 'will now',\n",
       " 'now list',\n",
       " 'list three',\n",
       " 'three things',\n",
       " 'things i',\n",
       " 'i cannot',\n",
       " 'cannot live',\n",
       " 'live without',\n",
       " 'without water',\n",
       " 'water emery',\n",
       " 'emery boards',\n",
       " 'boards dogs',\n",
       " 'dogs thank',\n",
       " 'thank you',\n",
       " 'you for',\n",
       " 'for the',\n",
       " 'the opportunity',\n",
       " 'opportunity to',\n",
       " 'to introduce',\n",
       " 'introduce myself',\n",
       " 'myself i',\n",
       " 'i look',\n",
       " 'look forward',\n",
       " 'forward to',\n",
       " 'to the',\n",
       " 'the competition']"
      ]
     },
     "execution_count": 378,
     "metadata": {},
     "output_type": "execute_result"
    }
   ],
   "source": [
    "ngram_creator(prepare_text(myrtle_beech_intro))\n",
    "\n",
    "\n",
    "\n",
    "\n",
    "\n",
    "\n"
   ]
  },
  {
   "cell_type": "markdown",
   "metadata": {},
   "source": [
    "Use `ngram_creator` along with the prepared text to create a list of all the two-word ngrams in each `TextSample`. Use `build_frequency_table` to tabulate the frequency of each ngram. In the constructor for `TextSample` save this frequency table as `self.ngram_frequency`."
   ]
  },
  {
   "cell_type": "markdown",
   "metadata": {},
   "source": [
    "## Comparing Two Frequency Tables\n",
    "\n",
    "We want to know how similar two frequency tables are, let's write a function that computes the comparison between two frequency tables and scores them based on similarity.\n",
    "\n",
    "Write a function called `frequency_comparison` that takes two parameters, `table1` and `table2`. It should define two local variables, `appearances` and `mutual_appearances`. \n",
    "\n",
    "Iterate through `table1`'s keys and check if `table2` has the same key defined. If it is, compare the two values for the key -- the smaller value should get added to `mutual_appearances` and the larger should get added to `appearances`. If the key doesn't exist in `table2` the value for the key in `table1` should be added to `appearances`.\n",
    "\n",
    "Remember afterwards to iterate through all of `table2`'s keys that aren't in `table1` and add those to `appearances` as well.\n",
    "\n",
    "Return a frequency comparison score equal to the mutual appearances divided by the total appearances."
   ]
  },
  {
   "cell_type": "code",
   "execution_count": 379,
   "metadata": {},
   "outputs": [],
   "source": [
    "def frequency_comparison(table1, table2):\n",
    "    appearances = 0\n",
    "    mutual_appearances = 0\n",
    "    for word in table1.keys():\n",
    "        value_t1 = table1.get(word)\n",
    "        value_t2 = table2.get(word, 0)\n",
    "        if value_t1 > value_t2:\n",
    "            appearances += value_t1\n",
    "            mutual_appearances += value_t2\n",
    "        else:\n",
    "            appearances += value_t2\n",
    "            mutual_appearances += value_t1\n",
    "    \n",
    "    for word in table2.keys():\n",
    "        value_t2 = table2.get(word)\n",
    "        value_t1 = table1.get(word, 0)\n",
    "        \n",
    "        if value_t1 > 0:\n",
    "            continue\n",
    "        else:\n",
    "            appearances += value_t2\n",
    "    \n",
    "    return mutual_appearances / appearances"
   ]
  },
  {
   "cell_type": "code",
   "execution_count": 380,
   "metadata": {},
   "outputs": [
    {
     "data": {
      "text/plain": [
       "0.016666666666666666"
      ]
     },
     "execution_count": 380,
     "metadata": {},
     "output_type": "execute_result"
    }
   ],
   "source": [
    "frequency_comparison(build_frequeny_table(ngram_creator(prepare_text(myrtle_beech_intro))), build_frequeny_table(ngram_creator(prepare_text(lily_trebuchet_intro))))"
   ]
  },
  {
   "cell_type": "markdown",
   "metadata": {},
   "source": [
    "## Comparing Average Sentence Length\n",
    "\n",
    "In order to calculate the change between the average sentence lengths of two `TextSamples` we're going to use the formula for the percent difference.\n",
    "\n",
    "Write a function called `percent_difference` that returns the percent difference as calculated from the following formula:\n",
    "\n",
    "$$\\frac{|\\ value1 - value2\\ |}{\\frac{value1 + value2}{2}}$$\n",
    "\n",
    "In the numerator is the absolute value (use `abs()`) of the two values subtracted from each other. In the denominator is the average of the two values (value1 + value2 divided by two)."
   ]
  },
  {
   "cell_type": "code",
   "execution_count": 381,
   "metadata": {},
   "outputs": [],
   "source": [
    "def percent_difference(value1,value2):\n",
    "    numerator = abs(value1-value2)\n",
    "    denominator = (value1 + value2)/2\n",
    "    average = numerator/denominator\n",
    "    return average\n",
    "    "
   ]
  },
  {
   "cell_type": "markdown",
   "metadata": {},
   "source": [
    "## Scoring Similarity with All Three Indicators\n",
    "\n",
    "We want to figure out who did it, so let's use all three of the indicators we built to score text similarity. Define a function `find_text_similarity` that takes two `TextSample` arguments and returns a float between 0 and 1 where 0 means completely different and 1 means the same exact sample. You can evaluate the similarity by the following criteria:\n",
    "\n",
    "- Calculate the percent difference of their average sentence length using `percent_difference`. Save that into a variable called `sentence_length_difference`. Since we want to find how _similar_ the two passages are calculate the inverse of `sentence_length_difference` by using the formula `abs(1 - sentence_length_difference)`. Save that into a variable called `sentence_length_similarity`.\n",
    "- Calculate the difference between their word usage using `frequency_comparison` on both `TextSample`'s `word_count_frequency` attributes. Save that into a variable called `word_count_similarity`.\n",
    "- Calculate the difference between their two-word ngram using `frequency_table` on both `TextSample`'s `ngram_frequency` attributes. Save that into a variable called `ngram_similarity`.\n",
    "- Add all three similarities together and divide by 3."
   ]
  },
  {
   "cell_type": "code",
   "execution_count": 382,
   "metadata": {},
   "outputs": [],
   "source": [
    "def find_text_similarity(text1, text2):\n",
    "    sentence_length_difference=percent_difference(text1.average_sentence_length, text2.average_sentence_length)\n",
    "    sentence_length_similarity=abs(1 - sentence_length_difference)\n",
    "    word_count_similarity=frequency_comparison(text1.word_count_frequency, text2.word_count_frequency)\n",
    "    ngram_similarity=frequency_comparison(text1.ngram_frequency, text2.ngram_frequency)\n",
    "    return (sentence_length_similarity+word_count_similarity+ngram_similarity)/3\n",
    "    "
   ]
  },
  {
   "cell_type": "code",
   "execution_count": 389,
   "metadata": {},
   "outputs": [
    {
     "data": {
      "text/plain": [
       "0.31898073634471574"
      ]
     },
     "execution_count": 389,
     "metadata": {},
     "output_type": "execute_result"
    }
   ],
   "source": [
    "find_text_similarity(murderer_sample,lily_sample)\n"
   ]
  },
  {
   "cell_type": "markdown",
   "metadata": {},
   "source": [
    "## Rendering the Results\n",
    "\n",
    "We want to print out the results in a way that we can read! For each contestant on _A Brand New Jay_ print out the following:\n",
    "\n",
    "- Their name\n",
    "- Their similarity score to the murder letter"
   ]
  },
  {
   "cell_type": "code",
   "execution_count": 399,
   "metadata": {
    "scrolled": false
   },
   "outputs": [
    {
     "name": "stdout",
     "output_type": "stream",
     "text": [
      "lilys\n",
      "Their similarity score to the murder letter 0.31898073634471574\n",
      "gregg\n",
      "Their similarity score to the murder letter 0.22747724641579756\n",
      "mrytle\n",
      "Their similarity score to the murder letter 0.0716022462176046\n"
     ]
    }
   ],
   "source": [
    "lily = find_text_similarity(murderer_sample,lily_sample)\n",
    "\n",
    "gregg = find_text_similarity(murderer_sample,gregg_sample)\n",
    "\n",
    "mrytle = find_text_similarity(murderer_sample,myrtle_sample)\n",
    "\n",
    "\n",
    "print(\"lilys\"+\"\\nTheir similarity score to the murder letter \" + str(lily))\n",
    "\n",
    "print(\"gregg\"+\"\\nTheir similarity score to the murder letter \" + str(gregg))\n",
    "\n",
    "print(\"mrytle\"+\"\\nTheir similarity score to the murder letter \" + str(mrytle))\n"
   ]
  },
  {
   "cell_type": "markdown",
   "metadata": {},
   "source": [
    "# Who Dunnit?\n",
    "\n",
    "In the cell below, print the name of the person who killed Jay Stacksby."
   ]
  },
  {
   "cell_type": "code",
   "execution_count": 401,
   "metadata": {},
   "outputs": [
    {
     "name": "stdout",
     "output_type": "stream",
     "text": [
      "LILY IS THE KILLER\n"
     ]
    }
   ],
   "source": [
    "print(\"LILY IS THE KILLER\")"
   ]
  }
 ],
 "metadata": {
  "kernelspec": {
   "display_name": "Python 3",
   "language": "python",
   "name": "python3"
  },
  "language_info": {
   "codemirror_mode": {
    "name": "ipython",
    "version": 3
   },
   "file_extension": ".py",
   "mimetype": "text/x-python",
   "name": "python",
   "nbconvert_exporter": "python",
   "pygments_lexer": "ipython3",
   "version": "3.7.0"
  }
 },
 "nbformat": 4,
 "nbformat_minor": 2
}
